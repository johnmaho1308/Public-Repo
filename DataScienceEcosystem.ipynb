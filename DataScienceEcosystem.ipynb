{
 "cells": [
  {
   "cell_type": "markdown",
   "id": "67e7ef0e-b214-449f-a78d-f4cdcf4b109d",
   "metadata": {},
   "source": [
    "# Data Science Tools and Ecosystem"
   ]
  },
  {
   "cell_type": "markdown",
   "id": "9d1601f9-6dce-4e43-88ca-012018e29467",
   "metadata": {},
   "source": [
    "In this notebook, Data Science Tools and Ecosystem are summarized."
   ]
  },
  {
   "cell_type": "markdown",
   "id": "ebf097bb-9c2b-488a-9114-936039164d7d",
   "metadata": {},
   "source": [
    "**Objective:** key takeaways from the course"
   ]
  },
  {
   "cell_type": "markdown",
   "id": "d98b3581-5d8a-420c-91e7-2b41d8d9a63d",
   "metadata": {
    "tags": []
   },
   "source": [
    "* Data Science Tools\n",
    "* Simple Arithmetic\n",
    "* Converting Hours To Minutes"
   ]
  },
  {
   "cell_type": "markdown",
   "id": "76769cfc-5c42-4efc-aaf8-2ad9b4c35265",
   "metadata": {},
   "source": [
    "Some of the popular languages that Data Scientists use are:"
   ]
  },
  {
   "cell_type": "markdown",
   "id": "2b54ee6a-e1d3-47a0-96a2-a2692d7356c9",
   "metadata": {},
   "source": [
    "1. Python\n",
    "2. C++\n",
    "3. C\n",
    "4. Julia\n"
   ]
  },
  {
   "cell_type": "markdown",
   "id": "0b9afd7a-eef4-4216-8438-6d1fac11bbfa",
   "metadata": {
    "tags": []
   },
   "source": [
    "List of common libraries"
   ]
  },
  {
   "cell_type": "markdown",
   "id": "f9e2eb8a-520d-4b54-ad8f-20de3aaef773",
   "metadata": {
    "tags": []
   },
   "source": [
    "1. Pandas\n",
    "2. GGPLOT\n",
    "3. Numpy\n",
    "4. Matplotlib\n",
    "5. SciPy"
   ]
  },
  {
   "cell_type": "markdown",
   "id": "ea44b465-d6c2-4f68-87a3-7e43189982cd",
   "metadata": {},
   "source": [
    "### Below are a few examples of evaluating arithmetic expressions in Python"
   ]
  },
  {
   "cell_type": "code",
   "execution_count": 1,
   "id": "3bd124ee-14c0-4941-a96e-6a7cd9e514cb",
   "metadata": {
    "tags": []
   },
   "outputs": [
    {
     "data": {
      "text/plain": [
       "17"
      ]
     },
     "execution_count": 1,
     "metadata": {},
     "output_type": "execute_result"
    }
   ],
   "source": [
    "(3*4)+5\n",
    "#This a simple arithmetic expression to mutiply then add integers"
   ]
  },
  {
   "cell_type": "code",
   "execution_count": 2,
   "id": "2cade7e6-2fb2-4630-bbe5-e16e8d3d2da0",
   "metadata": {
    "tags": []
   },
   "outputs": [
    {
     "data": {
      "text/plain": [
       "3.3333333333333335"
      ]
     },
     "execution_count": 2,
     "metadata": {},
     "output_type": "execute_result"
    }
   ],
   "source": [
    "#This will convert 200 minutes to hours by diving by 60\n",
    "200/60"
   ]
  },
  {
   "cell_type": "markdown",
   "id": "d10679c4-41a7-4701-8982-59157f5242ed",
   "metadata": {},
   "source": [
    "## Author\n",
    "John Mahoney"
   ]
  },
  {
   "cell_type": "code",
   "execution_count": null,
   "id": "187891d6-ab56-4872-bd07-46f7fdb901b2",
   "metadata": {},
   "outputs": [],
   "source": []
  }
 ],
 "metadata": {
  "kernelspec": {
   "display_name": "Python",
   "language": "python",
   "name": "conda-env-python-py"
  },
  "language_info": {
   "codemirror_mode": {
    "name": "ipython",
    "version": 3
   },
   "file_extension": ".py",
   "mimetype": "text/x-python",
   "name": "python",
   "nbconvert_exporter": "python",
   "pygments_lexer": "ipython3",
   "version": "3.7.12"
  }
 },
 "nbformat": 4,
 "nbformat_minor": 5
}
